{
 "cells": [
  {
   "cell_type": "markdown",
   "metadata": {},
   "source": [
    "# Experimentación"
   ]
  },
  {
   "cell_type": "markdown",
   "metadata": {},
   "source": [
    "## Preliminares"
   ]
  },
  {
   "cell_type": "code",
   "execution_count": 4,
   "metadata": {},
   "outputs": [
    {
     "name": "stdout",
     "output_type": "stream",
     "text": [
      "mkdir: cannot create directory ‘build’: File exists\n",
      "-- The C compiler identification is GNU 7.5.0\n",
      "-- The CXX compiler identification is GNU 7.5.0\n",
      "-- Check for working C compiler: /usr/bin/cc\n",
      "-- Check for working C compiler: /usr/bin/cc -- works\n",
      "-- Detecting C compiler ABI info\n",
      "-- Detecting C compiler ABI info - done\n",
      "-- Detecting C compile features\n",
      "-- Detecting C compile features - done\n",
      "-- Check for working CXX compiler: /usr/bin/c++\n",
      "-- Check for working CXX compiler: /usr/bin/c++ -- works\n",
      "-- Detecting CXX compiler ABI info\n",
      "-- Detecting CXX compiler ABI info - done\n",
      "-- Detecting CXX compile features\n",
      "-- Detecting CXX compile features - done\n",
      "Release mode\n",
      "-- Found PythonInterp: /home/schuster/.virtualenvs/metodos/bin/python (found version \"3.6.9\") \n",
      "-- Found PythonLibs: /usr/lib/x86_64-linux-gnu/libpython3.6m.so\n",
      "-- pybind11 v2.2.4\n",
      "-- Performing Test HAS_FLTO\n",
      "-- Performing Test HAS_FLTO - Success\n",
      "-- LTO enabled\n",
      "CMAKE_INSTALL_PREFIX=/home/schuster/Documents/Facultad/Metodos/metodos-tp2\n",
      "-- Configuring done\n",
      "-- Generating done\n",
      "-- Build files have been written to: /home/schuster/Documents/Facultad/Metodos/metodos-tp2/build\n",
      "\u001b[35m\u001b[1mScanning dependencies of target tp2\u001b[0m\n",
      "[ 10%] \u001b[32mBuilding CXX object CMakeFiles/tp2.dir/src/main.cpp.o\u001b[0m\n",
      "[ 20%] \u001b[32mBuilding CXX object CMakeFiles/tp2.dir/src/knn.cpp.o\u001b[0m\n",
      "[ 30%] \u001b[32mBuilding CXX object CMakeFiles/tp2.dir/src/pca.cpp.o\u001b[0m\n",
      "[ 40%] \u001b[32mBuilding CXX object CMakeFiles/tp2.dir/src/eigen.cpp.o\u001b[0m\n",
      "[ 50%] \u001b[32m\u001b[1mLinking CXX executable tp2\u001b[0m\n",
      "[ 50%] Built target tp2\n",
      "\u001b[35m\u001b[1mScanning dependencies of target metnum\u001b[0m\n",
      "[ 60%] \u001b[32mBuilding CXX object CMakeFiles/metnum.dir/src/metnum.cpp.o\u001b[0m\n",
      "[ 70%] \u001b[32mBuilding CXX object CMakeFiles/metnum.dir/src/knn.cpp.o\u001b[0m\n",
      "[ 80%] \u001b[32mBuilding CXX object CMakeFiles/metnum.dir/src/pca.cpp.o\u001b[0m\n",
      "[ 90%] \u001b[32mBuilding CXX object CMakeFiles/metnum.dir/src/eigen.cpp.o\u001b[0m\n",
      "[100%] \u001b[32m\u001b[1mLinking CXX shared module metnum.cpython-36m-x86_64-linux-gnu.so\u001b[0m\n",
      "[100%] Built target metnum\n",
      "\u001b[36mInstall the project...\u001b[0m\n",
      "-- Install configuration: \"Release\"\n",
      "-- Installing: /home/schuster/Documents/Facultad/Metodos/metodos-tp2/notebooks/metnum.cpython-36m-x86_64-linux-gnu.so\n"
     ]
    }
   ],
   "source": [
    "!cd .. && mkdir build\n",
    "!cd ../build/ && rm -rf *\n",
    "!cd ../build && cmake \\\n",
    "  -DPYTHON_EXECUTABLE=\"$(which python)\" \\\n",
    "  -DCMAKE_BUILD_TYPE=Release ..\n",
    "!cd ../build && make install"
   ]
  },
  {
   "cell_type": "code",
   "execution_count": 1,
   "metadata": {},
   "outputs": [],
   "source": [
    "from tqdm import tqdm\n",
    "import time\n",
    "import pandas as pd\n",
    "import numpy as np\n",
    "import seaborn as sns\n",
    "import matplotlib.pyplot as plt\n",
    "import metnum\n",
    "from sklearn.metrics import accuracy_score\n",
    "from sklearn.model_selection import KFold\n",
    "from sklearn.neighbors import KNeighborsClassifier\n",
    "from sklearn.metrics import cohen_kappa_score\n",
    "from sklearn.metrics import recall_score\n",
    "from sklearn.metrics import f1_score\n",
    "\n",
    "import warnings\n",
    "from sklearn.exceptions import DataConversionWarning\n",
    "warnings.filterwarnings(action='ignore', category=DataConversionWarning)"
   ]
  },
  {
   "cell_type": "markdown",
   "metadata": {},
   "source": [
    "## Exploración de datos y pruebas\n",
    "\n",
    "### Distribución de los datos"
   ]
  },
  {
   "cell_type": "code",
   "execution_count": 7,
   "metadata": {},
   "outputs": [
    {
     "name": "stdout",
     "output_type": "stream",
     "text": [
      "\\begin{tabular}{lr}\n",
      "\\toprule\n",
      "{} &     label \\\\\n",
      "\\midrule\n",
      "1 &  0.111524 \\\\\n",
      "7 &  0.104786 \\\\\n",
      "3 &  0.103595 \\\\\n",
      "9 &  0.099714 \\\\\n",
      "2 &  0.099452 \\\\\n",
      "6 &  0.098500 \\\\\n",
      "0 &  0.098381 \\\\\n",
      "4 &  0.096952 \\\\\n",
      "8 &  0.096738 \\\\\n",
      "5 &  0.090357 \\\\\n",
      "\\bottomrule\n",
      "\\end{tabular}\n",
      "\n"
     ]
    }
   ],
   "source": [
    "data = pd.read_csv(\"../data/train.csv\")\n",
    "data = data[\"label\"].value_counts(normalize=True)\n",
    "data = data.to_frame()\n",
    "print(data.to_latex())"
   ]
  },
  {
   "cell_type": "markdown",
   "metadata": {},
   "source": [
    "### Analizando valores de $\\alpha$\n",
    "Veamos qué sucede cuando variamos alpha para distintos tamaños de matriz de entrenamiento. Para ellos analizaremos cuántas componentes principales conviene tomar observando la fracción de la varianza que posee un conjunto de componentes principales respecto del total."
   ]
  },
  {
   "cell_type": "code",
   "execution_count": 2,
   "metadata": {},
   "outputs": [],
   "source": [
    "partitions = [10,50,100,500,1000,5000,10000,20000,42000]\n",
    "\n",
    "def proporcionAlpha():\n",
    "    data = pd.read_csv(\"../data/train.csv\")\n",
    "    df_alpha = pd.DataFrame(columns = ['alpha', 'size'])\n",
    "    for split in tqdm(partitions):\n",
    "        part = data[:split]\n",
    "        train = part[part.columns[1:]].values\n",
    "        alphas = min(split,784)\n",
    "        pca = metnum.PCA(alphas)\n",
    "        autoval = pca.get_eigenvaluesMatrix(train)\n",
    "        total = sum(autoval)\n",
    "        for alpha in range(1,alphas):\n",
    "            lparcial = autoval[:alpha]\n",
    "            parcial = sum(lparcial)\n",
    "            parcial = parcial/total\n",
    "            if parcial > 0.95:\n",
    "                df_alpha = pd.concat([df_alpha, pd.DataFrame([[alpha, split]], columns=['alpha', 'size'])])\n",
    "                ax = df_alpha.plot.bar(x='size', y='alpha', rot=0)\n",
    "                figb = ax.get_figure()\n",
    "                figb.savefig(\"barAlpha.png\")\n",
    "                \n",
    "                fig, axs = plt.subplots(1, 1, figsize=(10, 10))\n",
    "                sns_plt = sns.scatterplot(data=df_alpha, x='size', y='alpha', s=200)\n",
    "                figure = sns_plt.get_figure()\n",
    "                figure.savefig('alphas.png') \n",
    "                ax = df_alpha.plot.bar(x='size', y='alpha', rot=0)\n",
    "                print(df_alpha)\n",
    "\n",
    "                break\n",
    "                \n",
    "    ax = df_alpha.plot.bar(x='size', y='alpha', rot=0)\n",
    "    fig, axs = plt.subplots(1, 1, figsize=(10, 10))\n",
    "    sns.scatterplot(data=df_alpha, x='size', y='alpha', s=200)\n",
    "    print(df_alpha)\n",
    "    return\n",
    "\n",
    "\n",
    "def alphaKFijo():\n",
    "    data = pd.read_csv(\"../data/train.csv\")\n",
    "    data = data[:5000]\n",
    "    \n",
    "    X = data[data.columns[1:]].values\n",
    "    y = data[\"label\"].values.reshape(-1, 1)\n",
    "\n",
    "    limit = int(0.8 * X.shape[0]) \n",
    "    train, trainLabel = X[:limit], y[:limit]\n",
    "    test, testLabel = X[limit:], y[limit:]\n",
    "\n",
    "    pca = metnum.PCA(40)\n",
    "    V = pca.get_eigenvectorMatrix(train)\n",
    "\n",
    "    accs = []\n",
    "    for alpha in range(1, 40, 2):  \n",
    "        trainPCA = train @ V[:, :alpha]\n",
    "        testPCA = test @ V[:, :alpha]\n",
    "\n",
    "        clf = metnum.KNNClassifier(10)\n",
    "        clf.fit(trainPCA, trainLabel)\n",
    "\n",
    "        testPred = clf.predict(testPCA)\n",
    "\n",
    "        acc = accuracy_score(testLabel, testPred)\n",
    "        accs.append(acc)\n",
    "\n",
    "    plt.plot(alphaRange, accs, 'g-o')\n",
    "    plt.xlabel(\"Alpha\")\n",
    "    plt.ylabel(\"Accuracy\")\n",
    "    plt.title(\"Performance por alpha\");\n",
    "    return\n"
   ]
  },
  {
   "cell_type": "code",
   "execution_count": 3,
   "metadata": {},
   "outputs": [
    {
     "name": "stderr",
     "output_type": "stream",
     "text": [
      " 11%|█         | 1/9 [00:00<00:06,  1.25it/s]"
     ]
    },
    {
     "name": "stdout",
     "output_type": "stream",
     "text": [
      "  alpha size\n",
      "0     8   10\n"
     ]
    },
    {
     "name": "stderr",
     "output_type": "stream",
     "text": [
      "\r",
      " 22%|██▏       | 2/9 [00:07<00:17,  2.50s/it]"
     ]
    },
    {
     "name": "stdout",
     "output_type": "stream",
     "text": [
      "  alpha size\n",
      "0     8   10\n",
      "0    29   50\n"
     ]
    },
    {
     "name": "stderr",
     "output_type": "stream",
     "text": [
      "\r",
      " 33%|███▎      | 3/9 [00:32<00:55,  9.32s/it]"
     ]
    },
    {
     "name": "stdout",
     "output_type": "stream",
     "text": [
      "  alpha size\n",
      "0     8   10\n",
      "0    29   50\n",
      "0    47  100\n"
     ]
    },
    {
     "name": "stderr",
     "output_type": "stream",
     "text": [
      "\r",
      " 44%|████▍     | 4/9 [04:29<06:28, 77.70s/it]"
     ]
    },
    {
     "name": "stdout",
     "output_type": "stream",
     "text": [
      "  alpha size\n",
      "0     8   10\n",
      "0    29   50\n",
      "0    47  100\n",
      "0    82  500\n"
     ]
    },
    {
     "name": "stderr",
     "output_type": "stream",
     "text": [
      "\r",
      " 56%|█████▌    | 5/9 [17:27<19:10, 287.74s/it]"
     ]
    },
    {
     "name": "stdout",
     "output_type": "stream",
     "text": [
      "  alpha  size\n",
      "0     8    10\n",
      "0    29    50\n",
      "0    47   100\n",
      "0    82   500\n",
      "0    91  1000\n"
     ]
    },
    {
     "name": "stderr",
     "output_type": "stream",
     "text": [
      "\r",
      " 67%|██████▋   | 6/9 [29:48<21:11, 423.67s/it]"
     ]
    },
    {
     "name": "stdout",
     "output_type": "stream",
     "text": [
      "  alpha  size\n",
      "0     8    10\n",
      "0    29    50\n",
      "0    47   100\n",
      "0    82   500\n",
      "0    91  1000\n",
      "0   100  5000\n"
     ]
    },
    {
     "name": "stderr",
     "output_type": "stream",
     "text": [
      "/home/schuster/.virtualenvs/metodos/lib/python3.6/site-packages/pandas/plotting/_core.py:304: RuntimeWarning: More than 20 figures have been opened. Figures created through the pyplot interface (`matplotlib.pyplot.figure`) are retained until explicitly closed and may consume too much memory. (To control this warning, see the rcParam `figure.max_open_warning`).\n",
      "  fig = self.plt.figure(figsize=self.figsize)\n",
      "\r",
      " 78%|███████▊  | 7/9 [41:31<16:54, 507.50s/it]"
     ]
    },
    {
     "name": "stdout",
     "output_type": "stream",
     "text": [
      "  alpha   size\n",
      "0     8     10\n",
      "0    29     50\n",
      "0    47    100\n",
      "0    82    500\n",
      "0    91   1000\n",
      "0   100   5000\n",
      "0   101  10000\n"
     ]
    },
    {
     "name": "stderr",
     "output_type": "stream",
     "text": [
      "/home/schuster/.virtualenvs/metodos/lib/python3.6/site-packages/ipykernel_launcher.py:23: RuntimeWarning: More than 20 figures have been opened. Figures created through the pyplot interface (`matplotlib.pyplot.figure`) are retained until explicitly closed and may consume too much memory. (To control this warning, see the rcParam `figure.max_open_warning`).\n",
      "\r",
      " 89%|████████▉ | 8/9 [52:51<09:19, 559.33s/it]"
     ]
    },
    {
     "name": "stdout",
     "output_type": "stream",
     "text": [
      "  alpha   size\n",
      "0     8     10\n",
      "0    29     50\n",
      "0    47    100\n",
      "0    82    500\n",
      "0    91   1000\n",
      "0   100   5000\n",
      "0   101  10000\n",
      "0   102  20000\n"
     ]
    },
    {
     "name": "stderr",
     "output_type": "stream",
     "text": [
      "100%|██████████| 9/9 [1:03:51<00:00, 425.71s/it]"
     ]
    },
    {
     "name": "stdout",
     "output_type": "stream",
     "text": [
      "  alpha   size\n",
      "0     8     10\n",
      "0    29     50\n",
      "0    47    100\n",
      "0    82    500\n",
      "0    91   1000\n",
      "0   100   5000\n",
      "0   101  10000\n",
      "0   102  20000\n",
      "0   102  42000\n",
      "  alpha   size\n",
      "0     8     10\n",
      "0    29     50\n",
      "0    47    100\n",
      "0    82    500\n",
      "0    91   1000\n",
      "0   100   5000\n",
      "0   101  10000\n",
      "0   102  20000\n",
      "0   102  42000\n"
     ]
    },
    {
     "name": "stderr",
     "output_type": "stream",
     "text": [
      "\n",
      "/home/schuster/.virtualenvs/metodos/lib/python3.6/site-packages/ipykernel_launcher.py:33: RuntimeWarning: More than 20 figures have been opened. Figures created through the pyplot interface (`matplotlib.pyplot.figure`) are retained until explicitly closed and may consume too much memory. (To control this warning, see the rcParam `figure.max_open_warning`).\n"
     ]
    },
    {
     "data": {
      "image/png": "[encoded data removed]",
      "text/plain": [
       "<Figure size 432x288 with 1 Axes>"
      ]
     },
     "metadata": {
      "needs_background": "light"
     },
     "output_type": "display_data"
    },
    {
     "data": {
      "image/png": "[encoded data removed]",
      "text/plain": [
       "<Figure size 720x720 with 1 Axes>"
      ]
     },
     "metadata": {
      "needs_background": "light"
     },
     "output_type": "display_data"
    },
    {
     "data": {
      "image/png": "[encoded data removed]",
      "text/plain": [
       "<Figure size 432x288 with 1 Axes>"
      ]
     },
     "metadata": {
      "needs_background": "light"
     },
     "output_type": "display_data"
    },
    {
     "data": {
      "image/png": "[encoded data removed]",
      "text/plain": [
       "<Figure size 432x288 with 1 Axes>"
      ]
     },
     "metadata": {
      "needs_background": "light"
     },
     "output_type": "display_data"
    },
    {
     "data": {
      "image/png": "[encoded data removed]",
      "text/plain": [
       "<Figure size 720x720 with 1 Axes>"
      ]
     },
     "metadata": {
      "needs_background": "light"
     },
     "output_type": "display_data"
    },
    {
     "data": {
      "image/png": "[encoded data removed]",
      "text/plain": [
       "<Figure size 432x288 with 1 Axes>"
      ]
     },
     "metadata": {
      "needs_background": "light"
     },
     "output_type": "display_data"
    },
    {
     "data": {
      "image/png": "[encoded data removed]",
      "text/plain": [
       "<Figure size 432x288 with 1 Axes>"
      ]
     },
     "metadata": {
      "needs_background": "light"
     },
     "output_type": "display_data"
    },
    {
     "data": {
      "image/png": "[encoded data removed]",
      "text/plain": [
       "<Figure size 720x720 with 1 Axes>"
      ]
     },
     "metadata": {
      "needs_background": "light"
     },
     "output_type": "display_data"
    },
    {
     "data": {
      "image/png": "[encoded data removed]",
      "text/plain": [
       "<Figure size 432x288 with 1 Axes>"
      ]
     },
     "metadata": {
      "needs_background": "light"
     },
     "output_type": "display_data"
    },
    {
     "data": {
      "image/png": "[encoded data removed]",
      "text/plain": [
       "<Figure size 432x288 with 1 Axes>"
      ]
     },
     "metadata": {
      "needs_background": "light"
     },
     "output_type": "display_data"
    },
    {
     "data": {
      "image/png": "[encoded data removed]",
      "text/plain": [
       "<Figure size 720x720 with 1 Axes>"
      ]
     },
     "metadata": {
      "needs_background": "light"
     },
     "output_type": "display_data"
    },
    {
     "data": {
      "image/png": "[encoded data removed]",
      "text/plain": [
       "<Figure size 432x288 with 1 Axes>"
      ]
     },
     "metadata": {
      "needs_background": "light"
     },
     "output_type": "display_data"
    },
    {
     "data": {
      "image/png": "[encoded data removed]",
      "text/plain": [
       "<Figure size 432x288 with 1 Axes>"
      ]
     },
     "metadata": {
      "needs_background": "light"
     },
     "output_type": "display_data"
    },
    {
     "data": {
      "image/png": "[encoded data removed]",
      "text/plain": [
       "<Figure size 720x720 with 1 Axes>"
      ]
     },
     "metadata": {
      "needs_background": "light"
     },
     "output_type": "display_data"
    },
    {
     "data": {
      "image/png": "[encoded data removed]",
      "text/plain": [
       "<Figure size 432x288 with 1 Axes>"
      ]
     },
     "metadata": {
      "needs_background": "light"
     },
     "output_type": "display_data"
    },
    {
     "data": {
      "image/png": "[encoded data removed]",
      "text/plain": [
       "<Figure size 432x288 with 1 Axes>"
      ]
     },
     "metadata": {
      "needs_background": "light"
     },
     "output_type": "display_data"
    },
    {
     "data": {
      "image/png": "[encoded data removed]",
      "text/plain": [
       "<Figure size 720x720 with 1 Axes>"
      ]
     },
     "metadata": {
      "needs_background": "light"
     },
     "output_type": "display_data"
    },
    {
     "data": {
      "image/png": "[encoded data removed]",
      "text/plain": [
       "<Figure size 432x288 with 1 Axes>"
      ]
     },
     "metadata": {
      "needs_background": "light"
     },
     "output_type": "display_data"
    },
    {
     "data": {
      "image/png": "[encoded data removed]",
      "text/plain": [
       "<Figure size 432x288 with 1 Axes>"
      ]
     },
     "metadata": {
      "needs_background": "light"
     },
     "output_type": "display_data"
    },
    {
     "data": {
      "image/png": "[encoded data removed]",
      "text/plain": [
       "<Figure size 720x720 with 1 Axes>"
      ]
     },
     "metadata": {
      "needs_background": "light"
     },
     "output_type": "display_data"
    },
    {
     "data": {
      "image/png": "[encoded data removed]",
      "text/plain": [
       "<Figure size 432x288 with 1 Axes>"
      ]
     },
     "metadata": {
      "needs_background": "light"
     },
     "output_type": "display_data"
    },
    {
     "data": {
      "image/png": "[encoded data removed]",
      "text/plain": [
       "<Figure size 432x288 with 1 Axes>"
      ]
     },
     "metadata": {
      "needs_background": "light"
     },
     "output_type": "display_data"
    },
    {
     "data": {
      "image/png": "[encoded data removed]",
      "text/plain": [
       "<Figure size 720x720 with 1 Axes>"
      ]
     },
     "metadata": {
      "needs_background": "light"
     },
     "output_type": "display_data"
    },
    {
     "data": {
      "image/png": "[encoded data removed]",
      "text/plain": [
       "<Figure size 432x288 with 1 Axes>"
      ]
     },
     "metadata": {
      "needs_background": "light"
     },
     "output_type": "display_data"
    },
    {
     "data": {
      "image/png": "[encoded data removed]",
      "text/plain": [
       "<Figure size 432x288 with 1 Axes>"
      ]
     },
     "metadata": {
      "needs_background": "light"
     },
     "output_type": "display_data"
    },
    {
     "data": {
      "image/png": "[encoded data removed]",
      "text/plain": [
       "<Figure size 720x720 with 1 Axes>"
      ]
     },
     "metadata": {
      "needs_background": "light"
     },
     "output_type": "display_data"
    },
    {
     "data": {
      "image/png": "[encoded data removed]",
      "text/plain": [
       "<Figure size 432x288 with 1 Axes>"
      ]
     },
     "metadata": {
      "needs_background": "light"
     },
     "output_type": "display_data"
    },
    {
     "data": {
      "image/png": "[encoded data removed]",
      "text/plain": [
       "<Figure size 432x288 with 1 Axes>"
      ]
     },
     "metadata": {
      "needs_background": "light"
     },
     "output_type": "display_data"
    },
    {
     "data": {
      "image/png": "[encoded data removed]",
      "text/plain": [
       "<Figure size 720x720 with 1 Axes>"
      ]
     },
     "metadata": {
      "needs_background": "light"
     },
     "output_type": "display_data"
    }
   ],
   "source": [
    "proporcionAlpha()"
   ]
  },
  {
   "cell_type": "markdown",
   "metadata": {},
   "source": [
    "### Analizando k y $\\alpha$\n",
    "Analizamos cómo varía el accuracy cuando se varía k y alpha en rangos pequeños."
   ]
  },
  {
   "cell_type": "code",
   "execution_count": 7,
   "metadata": {},
   "outputs": [
    {
     "data": {
      "image/png": "[encoded data removed]",
      "text/plain": [
       "<Figure size 432x288 with 1 Axes>"
      ]
     },
     "metadata": {
      "needs_background": "light"
     },
     "output_type": "display_data"
    }
   ],
   "source": [
    "kRange = list(range(1, 40, 4))\n",
    "alphaRange = list(range(1, 40, 4))\n",
    "\n",
    "#Preparo los datos\n",
    "data = data[:5000]\n",
    "X = data[data.columns[1:]].values\n",
    "y = data[\"label\"].values.reshape(-1, 1)\n",
    "\n",
    "limit = int(0.8 * X.shape[0]) \n",
    "train, trainLabel = X[:limit], y[:limit]\n",
    "test, testLabel = X[limit:], y[limit:]\n",
    "\n",
    "pca = metnum.PCA(alphaRange[-1])\n",
    "V = pca.get_eigenvectorMatrix(train)\n",
    "\n",
    "df = pd.DataFrame(index = kRange)\n",
    "df2 = pd.DataFrame(columns = ['k', 'alpha', 'acc'])\n",
    "for alpha in alphaRange: \n",
    "    accs = []\n",
    "    for k in kRange:\n",
    "        trainPCA = train @ V[:, :alpha]\n",
    "        testPCA = test @ V[:, :alpha]\n",
    "\n",
    "        clf = metnum.KNNClassifier(k)\n",
    "        #clf = KNeighborsClassifier(k)\n",
    "        clf.fit(trainPCA, trainLabel)\n",
    "\n",
    "        testPred = clf.predict(testPCA)\n",
    "        acc = accuracy_score(testLabel, testPred)\n",
    "        accs.append(acc)\n",
    "        df2 = pd.concat([df2, pd.DataFrame([[k, alpha, acc]], columns=['k', 'alpha', 'acc'])])\n",
    "        \n",
    "    df.insert(0,\"alpha = \" + str(alpha),accs)\n",
    "    #df = pd.concat([df, pd.DataFrame([accs + [str(alpha)]], columns=col)])  \n",
    "df.plot();"
   ]
  },
  {
   "cell_type": "markdown",
   "metadata": {},
   "source": [
    "## Experimentos"
   ]
  },
  {
   "cell_type": "markdown",
   "metadata": {},
   "source": [
    "### Experimento 1:\n",
    "KNN con o sin PCA: Hacer un heatmap de calidad de resultados y tiempo de ejecución para KNN con y sin PCA por separado. Una vez que contemos con esos valores, podemos empezar a establecer relaciones entre ambos métodos, pudiendo realizar un cociente entre calidad/tiempo y entre distintos resultados de con/sin PCA."
   ]
  },
  {
   "cell_type": "code",
   "execution_count": 2,
   "metadata": {},
   "outputs": [],
   "source": [
    "alphaRange = list(range(5,105,5))\n",
    "kRange = [1] + list(range(5,55,5))\n",
    "splits = [2,5,10]\n",
    "\n",
    "colsPCA = ['Fold', 'Alpha' , 'k', 'Accuracy', 'Time', 'Kappa', 'Recall', 'F1 Score']\n",
    "colsNoPCA = ['Fold', 'k', 'Accuracy', 'Time', 'Kappa', 'Recall', 'F1 Score']\n",
    "\n",
    "rawData = pd.read_csv(\"../data/train.csv\")\n",
    "\n",
    "def experimento1():\n",
    "    tiempoInicio = time.clock()\n",
    "    dfPCA = pd.DataFrame(columns = colsPCA)\n",
    "    dfNoPCA = pd.DataFrame(columns = colsNoPCA)\n",
    "    \n",
    "    for split in tqdm(splits):\n",
    "        tiempoInicioSplit = time.clock()\n",
    "        kf = KFold(n_splits=split)\n",
    "        dfFoldPCA = pd.DataFrame(columns = colsPCA)\n",
    "        dfFoldNoPCA = pd.DataFrame(columns = colsNoPCA)\n",
    "        \n",
    "        for train, test in kf.split(rawData):\n",
    "            dataPCA = calcularPCA(train, test, split)\n",
    "            dataNoPCA = calcularNoPCA(train, test, split)\n",
    "            \n",
    "            dfFoldNoPCA = pd.concat([dfFoldNoPCA, dataNoPCA])\n",
    "            dfFoldPCA = pd.concat([dfFoldPCA, dataPCA])\n",
    "            \n",
    "        dfFoldPCA = dfFoldPCA.groupby(['Fold', 'Alpha', 'k']).mean().reset_index()\n",
    "        dfFoldNoPCA = dfFoldNoPCA.groupby(['Fold', 'k']).mean().reset_index()\n",
    "\n",
    "        dfPCA = pd.concat([dfPCA, dfFoldPCA])        \n",
    "        dfNoPCA = pd.concat([dfNoPCA, dfFoldNoPCA])\n",
    "        \n",
    "        pd.DataFrame(dfPCA).to_csv('results/exp1/PCA.csv')\n",
    "        pd.DataFrame(dfNoPCA).to_csv('results/exp1/noPCA.csv')\n",
    "        \n",
    "        tiempoFinalSplit = time.clock()\n",
    "        print('El split se ejecutó durante ' + str((tiempoFinalSplit - tiempoInicioSplit)/3600) + ' horas')\n",
    "    tiempoFinal = time.clock()\n",
    "    print('El experimento se ejecutó durante '+str((tiempoFinal - tiempoInicio)/3600)+' horas')\n",
    "    return  \n",
    "        \n",
    "\n",
    "    \n",
    "def calcularPCA(train, test, fold):\n",
    "    df = pd.DataFrame(columns = colsPCA)\n",
    "\n",
    "    rawTrain, labelTrain = rawData.loc[train, rawData.columns[1:]].values, rawData.loc[train, \"label\"].values.reshape(-1, 1)\n",
    "    rawTest, labelTest = rawData.loc[test, rawData.columns[1:]].values, rawData.loc[test, \"label\"].values.reshape(-1, 1)\n",
    "    \n",
    "    #Sumar al costo temporal el de calcular el alpha por separado (aproximado)\n",
    "    pca = metnum.PCA(alphaRange[-1])\n",
    "    V = pca.get_eigenvectorMatrix(rawTrain)  \n",
    "    \n",
    "    for alpha in alphaRange:\n",
    "        W = V[:, :alpha]\n",
    "        dataTrain = rawTrain @ W\n",
    "        dataTest = rawTest @ W\n",
    "\n",
    "        for k in kRange:\n",
    "            clf = metnum.KNNClassifier(k)\n",
    "            clf.fit(dataTrain, labelTrain)\n",
    "            \n",
    "            t0 = time.clock()\n",
    "            predTest = clf.predict(dataTest)\n",
    "            t1 = time.clock() - t0 #segundos\n",
    "            \n",
    "            acc = accuracy_score(labelTest, predTest)\n",
    "            kappa = cohen_kappa_score(labelTest, predTest) # El orden da igual porque es simétrica.\n",
    "            recall = recall_score(labelTest, predTest, average='weighted') # No es simetrico\n",
    "            f1 = f1_score(labelTest, predTest, average='weighted') # No es simetrico\n",
    "            \n",
    "            dfdata = {'Fold': fold, 'Alpha': alpha, 'k': k, 'Accuracy': acc, 'Time': t1*1000, 'Kappa': kappa, 'Recall': recall, 'F1 Score': f1}\n",
    "            df = df.append(dfdata, ignore_index=True)\n",
    "    \n",
    "    return df\n",
    "\n",
    "\n",
    "\n",
    "\n",
    "def calcularNoPCA(train, test, fold):\n",
    "    df = pd.DataFrame(columns = colsNoPCA)\n",
    "\n",
    "    dataTrain, labelTrain = rawData.loc[train, rawData.columns[1:]].values, rawData.loc[train, \"label\"].values.reshape(-1, 1)\n",
    "    dataTest, labelTest = rawData.loc[test, rawData.columns[1:]].values, rawData.loc[test, \"label\"].values.reshape(-1, 1)\n",
    "\n",
    "    for k in kRange:\n",
    "        clf = metnum.KNNClassifier(k)\n",
    "        clf.fit(dataTrain, labelTrain)\n",
    "\n",
    "        t0 = time.clock()\n",
    "        predTest = clf.predict(dataTest)\n",
    "        t1 = time.clock() - t0 #segundos\n",
    "\n",
    "        acc = accuracy_score(labelTest, predTest)\n",
    "        kappa = cohen_kappa_score(labelTest, predTest) # El orden da igual porque es simétrica.\n",
    "        recall = recall_score(labelTest, predTest, average='weighted') # No es simetrico\n",
    "        f1 = f1_score(labelTest, predTest, average='weighted') # No es simetrico\n",
    "\n",
    "        dfdata = {'Fold': fold, 'k': k, 'Accuracy': acc, 'Time': t1*1000, 'Kappa': kappa, 'Recall': recall, 'F1 Score': f1}\n",
    "        df = df.append(dfdata, ignore_index=True)\n",
    "        \n",
    "    return df\n"
   ]
  },
  {
   "cell_type": "code",
   "execution_count": null,
   "metadata": {},
   "outputs": [
    {
     "name": "stderr",
     "output_type": "stream",
     "text": [
      " 33%|███▎      | 1/3 [3:17:22<6:34:44, 11842.08s/it]"
     ]
    },
    {
     "name": "stdout",
     "output_type": "stream",
     "text": [
      "El split se ejecutó durante 3.311369565 horas\n"
     ]
    },
    {
     "name": "stderr",
     "output_type": "stream",
     "text": [
      "\r",
      " 67%|██████▋   | 2/3 [11:29:37<4:45:50, 17150.11s/it]"
     ]
    },
    {
     "name": "stdout",
     "output_type": "stream",
     "text": [
      "El split se ejecutó durante 5.469727128333333 horas\n"
     ]
    }
   ],
   "source": [
    "experimento1()"
   ]
  },
  {
   "cell_type": "markdown",
   "metadata": {},
   "source": [
    "### Experimento 2:\n",
    "KNN con PCA: vamos a partir en diferentes tamaños"
   ]
  },
  {
   "cell_type": "code",
   "execution_count": 52,
   "metadata": {},
   "outputs": [],
   "source": [
    "getAlpha = {\n",
    "    50: 25,\n",
    "    100: 50,\n",
    "    200: 70,\n",
    "    500: 80,\n",
    "    1000: 90,\n",
    "    2000: 90,\n",
    "    5000: 100,\n",
    "    10000: 100,\n",
    "    20000: 100,\n",
    "    42000: 100\n",
    "}\n",
    "getK = {\n",
    "    50: 1,\n",
    "    100: 1,\n",
    "    200: 2,\n",
    "    500: 5,\n",
    "    1000: 8,\n",
    "    2000: 8,\n",
    "    5000: 8,\n",
    "    10000: 9,\n",
    "    20000: 10,\n",
    "    42000: 10\n",
    "}\n",
    "tamanos = [100,200,500,1000,2000,5000,10000,20000,42000]\n",
    "splits = [2,5,10]\n",
    "cols = ['Size', 'Fold', 'k', 'Accuracy', 'Time', 'Kappa', 'Recall', 'F1 Score']\n",
    "\n",
    "def experimento2():\n",
    "    rawData = pd.read_csv(\"../data/train.csv\")\n",
    "    df = pd.DataFrame(columns = cols)\n",
    "    \n",
    "    for tam in tqdm(tamanos):\n",
    "        data = rawData[:tam]\n",
    "        \n",
    "        for split in splits:\n",
    "            kf = KFold(n_splits=split)\n",
    "            dfFold = pd.DataFrame(columns = cols)\n",
    "            \n",
    "            for train, test in kf.split(data):\n",
    "\n",
    "                dataTrain, labelTrain = data.loc[train, data.columns[1:]].values, data.loc[train, \"label\"].values.reshape(-1, 1)\n",
    "                dataTest, labelTest = data.loc[test, data.columns[1:]].values, data.loc[test, \"label\"].values.reshape(-1, 1)\n",
    "\n",
    "                pca = metnum.PCA(getAlpha[tam])\n",
    "                pca.fit(dataTrain)\n",
    "                dataTrain = pca.transform(dataTrain)\n",
    "                dataTest = pca.transform(dataTest)\n",
    "\n",
    "                dfSplit = calcular(dataTrain, labelTrain, dataTest, labelTest, split, tam)\n",
    "                \n",
    "                dfFold = dfFold.append(dfSplit, ignore_index=True)\n",
    "\n",
    "            dfFold.groupby(['Fold', 'Size', 'k']).mean().reset_index()\n",
    "            df = pd.concat([df, dfFold])\n",
    "            pd.DataFrame(df).to_csv('results/exp2/data.csv')\n",
    "\n",
    "    pd.DataFrame(df).to_csv('results/exp2/data.csv')\n",
    "    print(df)\n",
    "    return  \n",
    "        \n",
    "\n",
    "def calcular(dataTrain, labelTrain, dataTest, labelTest, fold, size):\n",
    "    \n",
    "    k = getK[size]\n",
    "    \n",
    "    clf = metnum.KNNClassifier(k)\n",
    "    clf.fit(dataTrain, labelTrain)\n",
    "    \n",
    "    t0 = time.clock()\n",
    "    predTest = clf.predict(dataTest)\n",
    "    t1 = time.clock() - t0 #segundos\n",
    "\n",
    "    acc = accuracy_score(labelTest, predTest)\n",
    "    kappa = cohen_kappa_score(labelTest, predTest) # El orden da igual porque es simétrica.\n",
    "    recall = recall_score(labelTest, predTest, average='weighted') # No es simetrico\n",
    "    f1 = f1_score(labelTest, predTest, average='weighted') # No es simetrico\n",
    "\n",
    "    dfdata = {'Size': size, 'Fold': fold, 'k': k, 'Accuracy': acc, 'Time': t1*1000, 'Kappa': kappa, 'Recall': recall, 'F1 Score': f1}\n",
    "    \n",
    "    return dfdata"
   ]
  },
  {
   "cell_type": "code",
   "execution_count": 53,
   "metadata": {
    "scrolled": true
   },
   "outputs": [
    {
     "name": "stderr",
     "output_type": "stream",
     "text": [
      "100%|██████████| 9/9 [25:40<00:00, 171.21s/it]"
     ]
    },
    {
     "name": "stdout",
     "output_type": "stream",
     "text": [
      "       Size  Fold     k  Accuracy       Time     Kappa    Recall  F1 Score\n",
      "0     100.0   2.0   1.0  0.680000      0.082  0.638336  0.680000  0.675104\n",
      "1     100.0   2.0   1.0  0.560000      0.078  0.503610  0.560000  0.556837\n",
      "0     100.0   5.0   1.0  0.700000      0.093  0.657143  0.700000  0.716429\n",
      "1     100.0   5.0   1.0  0.900000      0.051  0.886364  0.900000  0.904762\n",
      "2     100.0   5.0   1.0  0.650000      0.091  0.602273  0.650000  0.620000\n",
      "3     100.0   5.0   1.0  0.500000      0.052  0.411765  0.500000  0.495000\n",
      "4     100.0   5.0   1.0  0.500000      0.052  0.445983  0.500000  0.540833\n",
      "0     100.0  10.0   1.0  0.600000      0.055  0.540230  0.600000  0.673333\n",
      "1     100.0  10.0   1.0  0.800000      0.036  0.770115  0.800000  0.766667\n",
      "2     100.0  10.0   1.0  0.900000      0.056  0.882353  0.900000  0.900000\n",
      "3     100.0  10.0   1.0  0.800000      0.036  0.759036  0.800000  0.833333\n",
      "4     100.0  10.0   1.0  0.600000      0.057  0.534884  0.600000  0.640000\n",
      "5     100.0  10.0   1.0  0.800000      0.033  0.764706  0.800000  0.793333\n",
      "6     100.0  10.0   1.0  0.500000      0.034  0.397590  0.500000  0.471429\n",
      "7     100.0  10.0   1.0  0.500000      0.064  0.404762  0.500000  0.453333\n",
      "8     100.0  10.0   1.0  0.400000      0.034  0.310345  0.400000  0.466667\n",
      "9     100.0  10.0   1.0  0.600000      0.032  0.555556  0.600000  0.550000\n",
      "0     200.0   2.0   2.0  0.630000      0.817  0.583708  0.630000  0.601437\n",
      "1     200.0   2.0   2.0  0.560000      0.392  0.507665  0.560000  0.531572\n",
      "0     200.0   5.0   2.0  0.750000      0.245  0.717314  0.750000  0.721444\n",
      "1     200.0   5.0   2.0  0.700000      0.379  0.654676  0.700000  0.689135\n",
      "2     200.0   5.0   2.0  0.625000      0.426  0.581590  0.625000  0.626143\n",
      "3     200.0   5.0   2.0  0.650000      0.266  0.600286  0.650000  0.627029\n",
      "4     200.0   5.0   2.0  0.500000      0.237  0.447132  0.500000  0.462327\n",
      "0     200.0  10.0   2.0  0.800000      0.153  0.770774  0.800000  0.783333\n",
      "1     200.0  10.0   2.0  0.800000      0.253  0.772080  0.800000  0.804167\n",
      "2     200.0  10.0   2.0  0.650000      0.140  0.601140  0.650000  0.635833\n",
      "3     200.0  10.0   2.0  0.700000      0.224  0.643917  0.700000  0.678333\n",
      "4     200.0  10.0   2.0  0.450000      0.175  0.393939  0.450000  0.484167\n",
      "5     200.0  10.0   2.0  0.800000      0.196  0.772080  0.800000  0.816667\n",
      "..      ...   ...   ...       ...        ...       ...       ...       ...\n",
      "2   20000.0   5.0  10.0  0.962750   4869.936  0.958589  0.962750  0.962668\n",
      "3   20000.0   5.0  10.0  0.959250   4472.061  0.954683  0.959250  0.959189\n",
      "4   20000.0   5.0  10.0  0.954000   4373.009  0.948841  0.954000  0.953799\n",
      "0   20000.0  10.0  10.0  0.959500   2461.605  0.954961  0.959500  0.959353\n",
      "1   20000.0  10.0  10.0  0.961000   2482.916  0.956640  0.961000  0.960850\n",
      "2   20000.0  10.0  10.0  0.958500   2518.179  0.953854  0.958500  0.958469\n",
      "3   20000.0  10.0  10.0  0.952000   2541.416  0.946608  0.952000  0.952006\n",
      "4   20000.0  10.0  10.0  0.965500   2494.250  0.961656  0.965500  0.965454\n",
      "5   20000.0  10.0  10.0  0.960000   2449.393  0.955499  0.960000  0.959927\n",
      "6   20000.0  10.0  10.0  0.961000   2448.797  0.956625  0.961000  0.960959\n",
      "7   20000.0  10.0  10.0  0.962000   2448.448  0.957720  0.962000  0.961911\n",
      "8   20000.0  10.0  10.0  0.957000   2446.086  0.952166  0.957000  0.956783\n",
      "9   20000.0  10.0  10.0  0.955500   2448.395  0.950492  0.955500  0.955376\n",
      "0   42000.0   2.0  10.0  0.960571  32149.295  0.956169  0.960571  0.960488\n",
      "1   42000.0   2.0  10.0  0.958952  30648.566  0.954372  0.958952  0.958841\n",
      "0   42000.0   5.0  10.0  0.967738  19307.483  0.964139  0.967738  0.967696\n",
      "1   42000.0   5.0  10.0  0.967738  19311.574  0.964130  0.967738  0.967683\n",
      "2   42000.0   5.0  10.0  0.965238  19332.630  0.961360  0.965238  0.965192\n",
      "3   42000.0   5.0  10.0  0.965238  19314.839  0.961362  0.965238  0.965140\n",
      "4   42000.0   5.0  10.0  0.968690  19383.780  0.965191  0.968690  0.968625\n",
      "0   42000.0  10.0  10.0  0.971667  10897.980  0.968506  0.971667  0.971615\n",
      "1   42000.0  10.0  10.0  0.971429  10945.981  0.968232  0.971429  0.971430\n",
      "2   42000.0  10.0  10.0  0.970714  10860.854  0.967442  0.970714  0.970653\n",
      "3   42000.0  10.0  10.0  0.971190  10854.338  0.967959  0.971190  0.971159\n",
      "4   42000.0  10.0  10.0  0.966667  10839.251  0.962942  0.966667  0.966612\n",
      "5   42000.0  10.0  10.0  0.963571  10864.463  0.959510  0.963571  0.963514\n",
      "6   42000.0  10.0  10.0  0.964286  10840.186  0.960304  0.964286  0.964205\n",
      "7   42000.0  10.0  10.0  0.966667  10867.073  0.962945  0.966667  0.966578\n",
      "8   42000.0  10.0  10.0  0.972381  10841.597  0.969286  0.972381  0.972384\n",
      "9   42000.0  10.0  10.0  0.968810  10859.632  0.965318  0.968810  0.968674\n",
      "\n",
      "[153 rows x 8 columns]\n"
     ]
    },
    {
     "name": "stderr",
     "output_type": "stream",
     "text": [
      "\n"
     ]
    }
   ],
   "source": [
    "experimento2()"
   ]
  },
  {
   "cell_type": "markdown",
   "metadata": {},
   "source": [
    "### Experimento 3:\n",
    "En el caso de tener k=1 se asigna la etiqueta del elemento más cercano del conjunto de entrenamiento y si k=N, voy a asignar la etiqueta mayoritaria en el conjunto de entrenamiento.\n",
    "Tomar una muestra, fijar un alpha y ver qué sucede con el accuracy a medida que se crece el k. Se espera que suceda lo antes explicado."
   ]
  },
  {
   "cell_type": "code",
   "execution_count": 121,
   "metadata": {},
   "outputs": [],
   "source": [
    "alphaExp3 = 100\n",
    "splits = [2,5,10,20]\n",
    "size = 42000\n",
    "\n",
    "def getK(i):\n",
    "    return int(i + 1.2**i)\n",
    "\n",
    "def experimento3():\n",
    "    data = pd.read_csv(\"../data/train.csv\")\n",
    "    df = pd.DataFrame(columns = ['Fold','k','Accuracy','Time','Kappa', 'Recall', 'F1 Score'])\n",
    "\n",
    "    for split in tqdm(splits):\n",
    "        kf = KFold(n_splits=split)\n",
    "        \n",
    "        for train, test in kf.split(data):\n",
    "            dataTrain, labelTrain = data.loc[train, data.columns[1:]].values, data.loc[train, \"label\"].values.reshape(-1, 1)\n",
    "            dataTest, labelTest = data.loc[test, data.columns[1:]].values, data.loc[test, \"label\"].values.reshape(-1, 1)\n",
    "\n",
    "            pca = metnum.PCA(alphaExp3)\n",
    "            pca.fit(dataTrain)\n",
    "            dataTrain = pca.transform(dataTrain)\n",
    "            dataTest = pca.transform(dataTest)\n",
    "            \n",
    "            size = train.shape[0]\n",
    "            \n",
    "            i = 0\n",
    "            k = getK(i)\n",
    "            while(k < size):\n",
    "                clf = metnum.KNNClassifier(k)\n",
    "                clf.fit(dataTrain, labelTrain)\n",
    "                \n",
    "                t0 = time.clock()\n",
    "                predTest = clf.predict(dataTest)\n",
    "                t1 = time.clock() - t0 #milisegundos\n",
    "                \n",
    "                acc = accuracy_score(labelTest, predTest)\n",
    "                kappa = cohen_kappa_score(labelTest, predTest) # El orden da igual porque es simétrica.\n",
    "                recall = recall_score(labelTest, predTest, average='weighted') # No es simetrico\n",
    "                f1 = f1_score(labelTest, predTest, average='weighted')\n",
    "\n",
    "                dfdata = {'Fold': split, 'k': k, 'Accuracy': acc, 'Time': t1*1000, 'Kappa': kappa, 'Recall': recall, 'F1 Score': f1}\n",
    "                df = df.append(dfdata, ignore_index=True)\n",
    "                \n",
    "                i += 1\n",
    "                k = getK(i)\n",
    "                 \n",
    "        df = df.groupby(['Fold', 'k']).mean().reset_index()\n",
    "        pd.DataFrame(df).to_csv('results/exp3/data.csv')\n",
    "    return\n",
    "\n",
    "def pruebaTestUnitario(size):\n",
    "    size += 5000\n",
    "    data = pd.read_csv(\"../data/train.csv\")\n",
    "    \n",
    "    X = data[data.columns[1:]].values\n",
    "    y = data[\"label\"].values.reshape(-1, 1)\n",
    "\n",
    "    train, labelTrain = X[:size], y[:size]\n",
    "    \n",
    "    pca = metnum.PCA(90)\n",
    "    pca.fit(train)\n",
    "    train = pca.transform(train)\n",
    "    \n",
    "    test, testLabel = X[size:size+1000], y[size:size+1000]\n",
    "    test = pca.transform(test)\n",
    "\n",
    "    df = pd.DataFrame(columns=['k','acc'])\n",
    "    \n",
    "    for k in tqdm(range(1,50,5)):\n",
    "        clf = metnum.KNNClassifier(k)\n",
    "        clf.fit(train, labelTrain)\n",
    "        testPred = clf.predict(test)\n",
    "        acc = accuracy_score(testLabel, testPred)\n",
    "\n",
    "        \n",
    "        data = {'k': k, 'acc': acc}\n",
    "        df = df.append(data, ignore_index=True)\n",
    "\n",
    "    df.plot(x = 'k', y='acc', kind = 'line')\n",
    "    fig, axs = plt.subplots(1, 1, figsize=(10, 10))\n",
    "    sns.scatterplot(data=df, x='k', y='acc')\n",
    "    return\n"
   ]
  },
  {
   "cell_type": "code",
   "execution_count": 16,
   "metadata": {},
   "outputs": [
    {
     "name": "stderr",
     "output_type": "stream",
     "text": [
      "100%|██████████| 2/2 [02:30<00:00, 75.41s/it]\n"
     ]
    }
   ],
   "source": [
    "experimento3()"
   ]
  },
  {
   "cell_type": "code",
   "execution_count": 33,
   "metadata": {
    "scrolled": true
   },
   "outputs": [
    {
     "name": "stderr",
     "output_type": "stream",
     "text": [
      "100%|██████████| 10/10 [00:18<00:00,  1.84s/it]\n"
     ]
    },
    {
     "data": {
      "image/png": "[encoded data removed]",
      "text/plain": [
       "<Figure size 432x288 with 1 Axes>"
      ]
     },
     "metadata": {
      "needs_background": "light"
     },
     "output_type": "display_data"
    },
    {
     "data": {
      "image/png": "[encoded data removed]",
      "text/plain": [
       "<Figure size 720x720 with 1 Axes>"
      ]
     },
     "metadata": {
      "needs_background": "light"
     },
     "output_type": "display_data"
    }
   ],
   "source": [
    "pruebaTestUnitario(20000)"
   ]
  },
  {
   "cell_type": "markdown",
   "metadata": {},
   "source": [
    "### Experimento variando KFolds"
   ]
  },
  {
   "cell_type": "code",
   "execution_count": 9,
   "metadata": {},
   "outputs": [],
   "source": [
    "splits = [15]\n",
    "\n",
    "def experimentoFolds():\n",
    "    data = pd.read_csv(\"../data/train.csv\")\n",
    "    df = pd.DataFrame(columns = ['Fold','Accuracy','Time','Kappa','F1 Score'])\n",
    "    for split in tqdm(splits):\n",
    "        kf = KFold(n_splits=split)\n",
    "\n",
    "        for train, test in kf.split(data):\n",
    "            dataTrain, labelTrain = data.loc[train, data.columns[1:]].values, data.loc[train, \"label\"].values.reshape(-1, 1)\n",
    "            dataTest, labelTest = data.loc[test, data.columns[1:]].values, data.loc[test, \"label\"].values.reshape(-1, 1)\n",
    "\n",
    "            pca = metnum.PCA(40)\n",
    "            pca.fit(dataTrain)\n",
    "            dataTrain = pca.transform(dataTrain)\n",
    "            dataTest = pca.transform(dataTest)\n",
    "\n",
    "            clf = metnum.KNNClassifier(5)\n",
    "            clf.fit(dataTrain, labelTrain)\n",
    "\n",
    "            t0 = time.clock()\n",
    "            predTest = clf.predict(dataTest)\n",
    "            t1 = time.clock() - t0 #segs\n",
    "\n",
    "            acc = accuracy_score(labelTest, predTest)\n",
    "            kappa = cohen_kappa_score(labelTest, predTest) # El orden da igual porque es simétrica.\n",
    "            recall = recall_score(labelTest, predTest, average='weighted') # No es simetrico\n",
    "            f1 = f1_score(labelTest, predTest, average='weighted')\n",
    "\n",
    "            dfdata = {'Fold': split, 'Accuracy': acc, 'Time': t1, 'Kappa': kappa, 'F1 Score': f1}\n",
    "            df = df.append(dfdata, ignore_index=True)\n",
    "\n",
    "        \n",
    "        df = df.groupby(['Fold']).mean().reset_index()\n",
    "        pd.DataFrame(df).to_csv('results/expFold/data15.csv')\n",
    "    return\n"
   ]
  },
  {
   "cell_type": "code",
   "execution_count": 10,
   "metadata": {},
   "outputs": [
    {
     "name": "stderr",
     "output_type": "stream",
     "text": [
      "100%|██████████| 1/1 [04:24<00:00, 264.17s/it]\n"
     ]
    }
   ],
   "source": [
    "experimentoFolds()"
   ]
  },
  {
   "cell_type": "markdown",
   "metadata": {},
   "source": [
    "### Experimento distintas distancias KNN"
   ]
  },
  {
   "cell_type": "code",
   "execution_count": 3,
   "metadata": {},
   "outputs": [],
   "source": [
    "def experimentoDistancias():\n",
    "    data = pd.read_csv(\"../data/train.csv\")\n",
    "    df = pd.DataFrame(columns = ['Accuracy','Time','Kappa', 'Recall', 'F1 Score'])\n",
    "\n",
    "    kf = KFold(n_splits=5)\n",
    "\n",
    "    for train, test in kf.split(data):\n",
    "        print('Nuevo fold')\n",
    "        dataTrain, labelTrain = data.loc[train, data.columns[1:]].values, data.loc[train, \"label\"].values.reshape(-1, 1)\n",
    "        dataTest, labelTest = data.loc[test, data.columns[1:]].values, data.loc[test, \"label\"].values.reshape(-1, 1)\n",
    "\n",
    "        pca = metnum.PCA(40)\n",
    "        pca.fit(dataTrain)\n",
    "        dataTrain = pca.transform(dataTrain)\n",
    "        dataTest = pca.transform(dataTest)\n",
    "        \n",
    "        clf = metnum.KNNClassifier(5)\n",
    "        clf.fit(dataTrain, labelTrain)\n",
    "\n",
    "        t0 = time.clock()\n",
    "        predTest = clf.predict(dataTest)\n",
    "        t1 = time.clock() - t0 #segs\n",
    "\n",
    "        acc = accuracy_score(labelTest, predTest)\n",
    "        kappa = cohen_kappa_score(labelTest, predTest) # El orden da igual porque es simétrica.\n",
    "        recall = recall_score(labelTest, predTest, average='weighted') # No es simetrico\n",
    "        f1 = f1_score(labelTest, predTest, average='weighted')\n",
    "\n",
    "        dfdata = {'Accuracy': acc, 'Time': t1, 'Kappa': kappa, 'Recall': recall, 'F1 Score': f1}\n",
    "        df = df.append(dfdata, ignore_index=True)\n",
    "\n",
    "    df = df.mean().to_frame().T\n",
    "    pd.DataFrame(df).to_csv('results/expDistancias/dataEuclidea2.csv')\n",
    "    return\n"
   ]
  },
  {
   "cell_type": "code",
   "execution_count": 4,
   "metadata": {},
   "outputs": [
    {
     "name": "stdout",
     "output_type": "stream",
     "text": [
      "Nuevo fold\n",
      "Nuevo fold\n",
      "Nuevo fold\n",
      "Nuevo fold\n",
      "Nuevo fold\n"
     ]
    }
   ],
   "source": [
    "experimentoDistancias()"
   ]
  },
  {
   "cell_type": "markdown",
   "metadata": {},
   "source": [
    "### Trash"
   ]
  },
  {
   "cell_type": "code",
   "execution_count": 120,
   "metadata": {},
   "outputs": [
    {
     "name": "stdout",
     "output_type": "stream",
     "text": [
      "Mejores resultados usando PCA: \n",
      "\n",
      "Unnamed: 0      78.000000\n",
      "Fold             5.000000\n",
      "Alpha           40.000000\n",
      "k                5.000000\n",
      "Accuracy         0.973167\n",
      "Time          8118.625200\n",
      "Kappa            0.970173\n",
      "Recall           0.973167\n",
      "F1 Score         0.973130\n",
      "Name: 298, dtype: float64\n",
      "\n",
      " Mejores resultados sin PCA: \n",
      "\n",
      "Unnamed: 0         0.000000\n",
      "Fold               5.000000\n",
      "k                  1.000000\n",
      "Accuracy           0.966167\n",
      "Time          136545.301800\n",
      "Kappa              0.962391\n",
      "Recall             0.966167\n",
      "F1 Score           0.966124\n",
      "Name: 11, dtype: float64\n"
     ]
    },
    {
     "name": "stderr",
     "output_type": "stream",
     "text": [
      "/home/schuster/.virtualenvs/metodos/lib/python3.6/site-packages/ipykernel_launcher.py:12: FutureWarning: \n",
      "The current behaviour of 'Series.argmax' is deprecated, use 'idxmax'\n",
      "instead.\n",
      "The behavior of 'argmax' will be corrected to return the positional\n",
      "maximum in the future. For now, use 'series.values.argmax' or\n",
      "'np.argmax(np.array(values))' to get the position of the maximum\n",
      "row.\n",
      "  if sys.path[0] == '':\n"
     ]
    },
    {
     "ename": "KeyError",
     "evalue": "\"['Metodo'] not in index\"",
     "output_type": "error",
     "traceback": [
      "\u001b[0;31m---------------------------------------------------------------------------\u001b[0m",
      "\u001b[0;31mKeyError\u001b[0m                                  Traceback (most recent call last)",
      "\u001b[0;32m<ipython-input-120-1fcb4b38d340>\u001b[0m in \u001b[0;36m<module>\u001b[0;34m\u001b[0m\n\u001b[1;32m     30\u001b[0m \u001b[0mdfBar\u001b[0m\u001b[0;34m[\u001b[0m\u001b[0;34m\"Time\"\u001b[0m\u001b[0;34m]\u001b[0m \u001b[0;34m=\u001b[0m \u001b[0mdfBar\u001b[0m\u001b[0;34m[\u001b[0m\u001b[0;34m\"Time\"\u001b[0m\u001b[0;34m]\u001b[0m\u001b[0;34m.\u001b[0m\u001b[0mdiv\u001b[0m\u001b[0;34m(\u001b[0m\u001b[0;36m1000\u001b[0m\u001b[0;34m)\u001b[0m\u001b[0;34m\u001b[0m\u001b[0;34m\u001b[0m\u001b[0m\n\u001b[1;32m     31\u001b[0m \u001b[0mdfBar\u001b[0m\u001b[0;34m[\u001b[0m\u001b[0;34m\"Time (segs)\"\u001b[0m\u001b[0;34m]\u001b[0m \u001b[0;34m=\u001b[0m \u001b[0mdfBar\u001b[0m\u001b[0;34m[\u001b[0m\u001b[0;34m\"Time\"\u001b[0m\u001b[0;34m]\u001b[0m\u001b[0;34m\u001b[0m\u001b[0;34m\u001b[0m\u001b[0m\n\u001b[0;32m---> 32\u001b[0;31m \u001b[0mdfBar\u001b[0m \u001b[0;34m=\u001b[0m \u001b[0mdfBar\u001b[0m\u001b[0;34m[\u001b[0m\u001b[0;34m[\u001b[0m\u001b[0;34m'Metodo'\u001b[0m\u001b[0;34m,\u001b[0m \u001b[0;34m'Time (segs)'\u001b[0m\u001b[0;34m,\u001b[0m\u001b[0;34m'Accuracy'\u001b[0m\u001b[0;34m,\u001b[0m\u001b[0;34m'Kappa'\u001b[0m\u001b[0;34m,\u001b[0m \u001b[0;34m'F1 Score'\u001b[0m\u001b[0;34m]\u001b[0m\u001b[0;34m]\u001b[0m\u001b[0;34m\u001b[0m\u001b[0;34m\u001b[0m\u001b[0m\n\u001b[0m\u001b[1;32m     33\u001b[0m \u001b[0;34m\u001b[0m\u001b[0m\n\u001b[1;32m     34\u001b[0m \u001b[0mprint\u001b[0m\u001b[0;34m(\u001b[0m\u001b[0mdfBar\u001b[0m\u001b[0;34m.\u001b[0m\u001b[0mto_latex\u001b[0m\u001b[0;34m(\u001b[0m\u001b[0mindex\u001b[0m\u001b[0;34m=\u001b[0m\u001b[0;32mFalse\u001b[0m\u001b[0;34m)\u001b[0m\u001b[0;34m)\u001b[0m\u001b[0;34m\u001b[0m\u001b[0;34m\u001b[0m\u001b[0m\n",
      "\u001b[0;32m~/.virtualenvs/metodos/lib/python3.6/site-packages/pandas/core/frame.py\u001b[0m in \u001b[0;36m__getitem__\u001b[0;34m(self, key)\u001b[0m\n\u001b[1;32m   2932\u001b[0m                 \u001b[0mkey\u001b[0m \u001b[0;34m=\u001b[0m \u001b[0mlist\u001b[0m\u001b[0;34m(\u001b[0m\u001b[0mkey\u001b[0m\u001b[0;34m)\u001b[0m\u001b[0;34m\u001b[0m\u001b[0;34m\u001b[0m\u001b[0m\n\u001b[1;32m   2933\u001b[0m             indexer = self.loc._convert_to_indexer(key, axis=1,\n\u001b[0;32m-> 2934\u001b[0;31m                                                    raise_missing=True)\n\u001b[0m\u001b[1;32m   2935\u001b[0m \u001b[0;34m\u001b[0m\u001b[0m\n\u001b[1;32m   2936\u001b[0m         \u001b[0;31m# take() does not accept boolean indexers\u001b[0m\u001b[0;34m\u001b[0m\u001b[0;34m\u001b[0m\u001b[0;34m\u001b[0m\u001b[0m\n",
      "\u001b[0;32m~/.virtualenvs/metodos/lib/python3.6/site-packages/pandas/core/indexing.py\u001b[0m in \u001b[0;36m_convert_to_indexer\u001b[0;34m(self, obj, axis, is_setter, raise_missing)\u001b[0m\n\u001b[1;32m   1352\u001b[0m                 kwargs = {'raise_missing': True if is_setter else\n\u001b[1;32m   1353\u001b[0m                           raise_missing}\n\u001b[0;32m-> 1354\u001b[0;31m                 \u001b[0;32mreturn\u001b[0m \u001b[0mself\u001b[0m\u001b[0;34m.\u001b[0m\u001b[0m_get_listlike_indexer\u001b[0m\u001b[0;34m(\u001b[0m\u001b[0mobj\u001b[0m\u001b[0;34m,\u001b[0m \u001b[0maxis\u001b[0m\u001b[0;34m,\u001b[0m \u001b[0;34m**\u001b[0m\u001b[0mkwargs\u001b[0m\u001b[0;34m)\u001b[0m\u001b[0;34m[\u001b[0m\u001b[0;36m1\u001b[0m\u001b[0;34m]\u001b[0m\u001b[0;34m\u001b[0m\u001b[0;34m\u001b[0m\u001b[0m\n\u001b[0m\u001b[1;32m   1355\u001b[0m         \u001b[0;32melse\u001b[0m\u001b[0;34m:\u001b[0m\u001b[0;34m\u001b[0m\u001b[0;34m\u001b[0m\u001b[0m\n\u001b[1;32m   1356\u001b[0m             \u001b[0;32mtry\u001b[0m\u001b[0;34m:\u001b[0m\u001b[0;34m\u001b[0m\u001b[0;34m\u001b[0m\u001b[0m\n",
      "\u001b[0;32m~/.virtualenvs/metodos/lib/python3.6/site-packages/pandas/core/indexing.py\u001b[0m in \u001b[0;36m_get_listlike_indexer\u001b[0;34m(self, key, axis, raise_missing)\u001b[0m\n\u001b[1;32m   1159\u001b[0m         self._validate_read_indexer(keyarr, indexer,\n\u001b[1;32m   1160\u001b[0m                                     \u001b[0mo\u001b[0m\u001b[0;34m.\u001b[0m\u001b[0m_get_axis_number\u001b[0m\u001b[0;34m(\u001b[0m\u001b[0maxis\u001b[0m\u001b[0;34m)\u001b[0m\u001b[0;34m,\u001b[0m\u001b[0;34m\u001b[0m\u001b[0;34m\u001b[0m\u001b[0m\n\u001b[0;32m-> 1161\u001b[0;31m                                     raise_missing=raise_missing)\n\u001b[0m\u001b[1;32m   1162\u001b[0m         \u001b[0;32mreturn\u001b[0m \u001b[0mkeyarr\u001b[0m\u001b[0;34m,\u001b[0m \u001b[0mindexer\u001b[0m\u001b[0;34m\u001b[0m\u001b[0;34m\u001b[0m\u001b[0m\n\u001b[1;32m   1163\u001b[0m \u001b[0;34m\u001b[0m\u001b[0m\n",
      "\u001b[0;32m~/.virtualenvs/metodos/lib/python3.6/site-packages/pandas/core/indexing.py\u001b[0m in \u001b[0;36m_validate_read_indexer\u001b[0;34m(self, key, indexer, axis, raise_missing)\u001b[0m\n\u001b[1;32m   1250\u001b[0m             \u001b[0;32mif\u001b[0m \u001b[0;32mnot\u001b[0m\u001b[0;34m(\u001b[0m\u001b[0mself\u001b[0m\u001b[0;34m.\u001b[0m\u001b[0mname\u001b[0m \u001b[0;34m==\u001b[0m \u001b[0;34m'loc'\u001b[0m \u001b[0;32mand\u001b[0m \u001b[0;32mnot\u001b[0m \u001b[0mraise_missing\u001b[0m\u001b[0;34m)\u001b[0m\u001b[0;34m:\u001b[0m\u001b[0;34m\u001b[0m\u001b[0;34m\u001b[0m\u001b[0m\n\u001b[1;32m   1251\u001b[0m                 \u001b[0mnot_found\u001b[0m \u001b[0;34m=\u001b[0m \u001b[0mlist\u001b[0m\u001b[0;34m(\u001b[0m\u001b[0mset\u001b[0m\u001b[0;34m(\u001b[0m\u001b[0mkey\u001b[0m\u001b[0;34m)\u001b[0m \u001b[0;34m-\u001b[0m \u001b[0mset\u001b[0m\u001b[0;34m(\u001b[0m\u001b[0max\u001b[0m\u001b[0;34m)\u001b[0m\u001b[0;34m)\u001b[0m\u001b[0;34m\u001b[0m\u001b[0;34m\u001b[0m\u001b[0m\n\u001b[0;32m-> 1252\u001b[0;31m                 \u001b[0;32mraise\u001b[0m \u001b[0mKeyError\u001b[0m\u001b[0;34m(\u001b[0m\u001b[0;34m\"{} not in index\"\u001b[0m\u001b[0;34m.\u001b[0m\u001b[0mformat\u001b[0m\u001b[0;34m(\u001b[0m\u001b[0mnot_found\u001b[0m\u001b[0;34m)\u001b[0m\u001b[0;34m)\u001b[0m\u001b[0;34m\u001b[0m\u001b[0;34m\u001b[0m\u001b[0m\n\u001b[0m\u001b[1;32m   1253\u001b[0m \u001b[0;34m\u001b[0m\u001b[0m\n\u001b[1;32m   1254\u001b[0m             \u001b[0;31m# we skip the warning on Categorical/Interval\u001b[0m\u001b[0;34m\u001b[0m\u001b[0;34m\u001b[0m\u001b[0;34m\u001b[0m\u001b[0m\n",
      "\u001b[0;31mKeyError\u001b[0m: \"['Metodo'] not in index\""
     ]
    }
   ],
   "source": [
    "dataPCA = pd.read_csv(\"results/exp1/PCA.csv\")\n",
    "\n",
    "dataPCA2 = dataPCA.loc[dataPCA['Fold'] == 2.0]\n",
    "dataPCA5 = dataPCA.loc[dataPCA['Fold'] == 5.0]\n",
    "\n",
    "dataNoPCA = pd.read_csv(\"results/exp1/noPCA.csv\")\n",
    "\n",
    "dataNoPCA2 = dataNoPCA.loc[dataNoPCA['Fold'] == 2.0]\n",
    "dataNoPCA5 = dataNoPCA.loc[dataNoPCA['Fold'] == 5.0]\n",
    "\n",
    "print('Mejores resultados usando PCA: \\n')\n",
    "dataPCA5['Time'].argmax()\n",
    "print(dataPCA5.loc[298]) #Acc\n",
    "\n",
    "print('\\n Mejores resultados sin PCA: \\n')\n",
    "#dataNoPCA5['Time'].argmax()\n",
    "print(dataNoPCA5.loc[11]) #Acc\n",
    "\n",
    "dataPCA5 = dataPCA5.loc[[298]]\n",
    "dataNoPCA5 = dataNoPCA5.loc[[11]]\n",
    "\n",
    "dataNoPCA5 = dataNoPCA5[['Time','Accuracy','Kappa', 'F1 Score']]\n",
    "dataPCA5 = dataPCA5[['Time','Accuracy','Kappa', 'F1 Score']]\n",
    "\n",
    "dataNoPCA5.insert(2, \"Metodo\", \"Sin PCA\") \n",
    "dataPCA5.insert(2, \"Metodo\", \"Con PCA\") \n",
    "\n",
    "dfBar = pd.concat([dataNoPCA5, dataPCA5])\n",
    "dfBar = dfBar[['Time','Accuracy','Kappa', 'F1 Score']].round(decimals = 3)\n",
    "dfBar[\"Time\"] = dfBar[\"Time\"].div(1000)\n",
    "dfBar[\"Time (segs)\"] = dfBar[\"Time\"]\n",
    "dfBar = dfBar[['Metodo', 'Time (segs)','Accuracy','Kappa', 'F1 Score']]\n",
    "\n",
    "print(dfBar.to_latex(index=False))\n",
    "print(dfBar)"
   ]
  },
  {
   "cell_type": "code",
   "execution_count": null,
   "metadata": {},
   "outputs": [],
   "source": []
  },
  {
   "cell_type": "code",
   "execution_count": null,
   "metadata": {},
   "outputs": [],
   "source": []
  }
 ],
 "metadata": {
  "kernelspec": {
   "display_name": "Python 3",
   "language": "python",
   "name": "python3"
  },
  "language_info": {
   "codemirror_mode": {
    "name": "ipython",
    "version": 3
   },
   "file_extension": ".py",
   "mimetype": "text/x-python",
   "name": "python",
   "nbconvert_exporter": "python",
   "pygments_lexer": "ipython3",
   "version": "3.6.9"
  }
 },
 "nbformat": 4,
 "nbformat_minor": 4
}
